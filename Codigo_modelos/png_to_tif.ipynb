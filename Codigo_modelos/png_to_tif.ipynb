{
 "cells": [
  {
   "cell_type": "code",
   "execution_count": 4,
   "metadata": {},
   "outputs": [
    {
     "name": "stdout",
     "output_type": "stream",
     "text": [
      "Valores únicos en la imagen: [  0   1   2   4   5   7  11  12  13  17  19  22  24  26  29  31  35  44\n",
      "  51  88 119 124 128 129 138 142 152 154 155 160 177 181 191 193 199 200\n",
      " 206 210 213 218 222 223 231 235 240 242 243 248 253 255]\n",
      "La imagen no es completamente binaria.\n"
     ]
    },
    {
     "name": "stderr",
     "output_type": "stream",
     "text": [
      "/home/cornelius/miniconda3/envs/pytorch_watnet/lib/python3.11/site-packages/rasterio/__init__.py:304: NotGeoreferencedWarning: Dataset has no geotransform, gcps, or rpcs. The identity matrix will be returned.\n",
      "  dataset = DatasetReader(path, driver=driver, sharing=sharing, **kwargs)\n"
     ]
    }
   ],
   "source": [
    "import numpy as np\n",
    "import rasterio\n",
    "\n",
    "#data_dir = \"/home/cornelius/Documentos/Glaciar_segmentation_datasets/dataset_glacier/masks_data/LC08_L2SP_003070_20230819_20230825_02_T1_006_011.TIF\"\n",
    "data_dir = \"/home/cornelius/Documentos/Glaciar_segmentation_datasets/dataset_glacier/SHOW_SIX_IMAGE/testing2/masks/LC08_L2SP_001071_20160817_20200906_02_T1_014_006.png\"\n",
    "#data_dir = \"/home/cornelius/Documentos/Glaciar_segmentation_datasets/dataset_glacier/images_data_base/testing/masks/LC08_L2SP_001071_20160801_20200906_02_T1_014_005_flip_horizontal.TIF\"\n",
    "# Abrir el archivo raster\n",
    "with rasterio.open(data_dir) as src:\n",
    "    img = src.read(1)  # Leer la primera banda\n",
    "    #img = img > 0.5\n",
    "\n",
    "# Asegurarse de que la imagen sea binaria (0 y 255)\n",
    "unique_values = np.unique(img)\n",
    "print(f\"Valores únicos en la imagen: {unique_values}\")\n",
    "\n",
    "# Si la imagen tiene valores 0 y 255, consideramos 255 como píxeles blancos\n",
    "if set(unique_values).issubset({0, 255}):\n",
    "    # Calcular el número de píxeles blancos (255)\n",
    "    num_white_pixels = np.sum(img == 255)\n",
    "\n",
    "    # Resolución espacial de la imagen (tamaño de píxel en metros)\n",
    "    pixel_size = 30  # Por ejemplo, para Landsat 8 el tamaño del píxel es de 30x30 metros\n",
    "\n",
    "    # Calcular el área en metros cuadrados\n",
    "    area_m2 = num_white_pixels * (pixel_size ** 2)\n",
    "\n",
    "    print(f'Área de la laguna: {area_m2} metros cuadrados')\n",
    "else:\n",
    "    print(\"La imagen no es completamente binaria.\")"
   ]
  },
  {
   "cell_type": "code",
   "execution_count": 5,
   "metadata": {},
   "outputs": [
    {
     "name": "stdout",
     "output_type": "stream",
     "text": [
      "Máscaras guardadas en formato .TIF\n"
     ]
    }
   ],
   "source": [
    "import os\n",
    "import rasterio\n",
    "import numpy as np\n",
    "\n",
    "input_dir = \"/home/cornelius/Documentos/Glaciar_dataset_C2_L1/Analisis_temporal/USGS/Recortar_patchs_L5/Analisis_512x512_correct/\"\n",
    "output_dir = \"/home/cornelius/Documentos/Glaciar_dataset_C2_L1/Analisis_temporal/USGS/Recortar_patchs_L5/Analisis_512x512_correct/TIF/\"\n",
    "\n",
    "def convert_binary(file_path, output_dir):\n",
    "    # Abrir el archivo con rasterio\n",
    "    with rasterio.open(file_path) as src:\n",
    "        binary_img = src.read(1)\n",
    "\n",
    "    # Umbralizar la imagen para obtener una imagen binaria\n",
    "    threshold = 0.5\n",
    "    mask_binary = np.where(binary_img > threshold, 1, 0).astype(np.uint8)\n",
    "\n",
    "    # Obtener el nombre base del archivo original y cambiar la extensión a .TIF\n",
    "    base_name = os.path.basename(file_path)\n",
    "    mask_name = f\"{os.path.splitext(base_name)[0]}.TIF\"\n",
    "    output_file_path = os.path.join(output_dir, mask_name)\n",
    "\n",
    "    # Guardar la imagen binaria en formato .TIF\n",
    "    save_img(mask_binary, output_file_path)\n",
    "\n",
    "def save_img(mask, file_path):\n",
    "    # Guardar la imagen binaria utilizando rasterio\n",
    "    with rasterio.open(\n",
    "        file_path,\n",
    "        'w',\n",
    "        driver='GTiff',\n",
    "        height=mask.shape[0],\n",
    "        width=mask.shape[1],\n",
    "        count=1,\n",
    "        dtype=np.uint8,\n",
    "    ) as dst:\n",
    "        dst.write(mask, 1)\n",
    "\n",
    "# Iterar sobre los archivos en el directorio de entrada\n",
    "for filename in os.listdir(input_dir):\n",
    "    if filename.lower().endswith(('.tif', '.png')):  # Aceptar tanto .TIF como .png\n",
    "        file_path = os.path.join(input_dir, filename)\n",
    "        convert_binary(file_path, output_dir)\n",
    "\n",
    "print(\"Máscaras guardadas en formato .TIF\")\n"
   ]
  }
 ],
 "metadata": {
  "kernelspec": {
   "display_name": "pytorch_watnet",
   "language": "python",
   "name": "python3"
  },
  "language_info": {
   "codemirror_mode": {
    "name": "ipython",
    "version": 3
   },
   "file_extension": ".py",
   "mimetype": "text/x-python",
   "name": "python",
   "nbconvert_exporter": "python",
   "pygments_lexer": "ipython3",
   "version": "3.11.0"
  }
 },
 "nbformat": 4,
 "nbformat_minor": 2
}
